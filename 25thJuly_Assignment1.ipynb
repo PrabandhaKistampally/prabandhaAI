{
 "cells": [
  {
   "cell_type": "markdown",
   "id": "ec570521-cae7-491d-8d71-29ce9c80b9de",
   "metadata": {},
   "source": [
    "# welcome to my page"
   ]
  },
  {
   "cell_type": "markdown",
   "id": "eb057158-cd1a-46f2-af41-2466855925c7",
   "metadata": {},
   "source": [
    "# NUMBERS"
   ]
  },
  {
   "cell_type": "code",
   "execution_count": 3,
   "id": "a6608cdc-d7ce-4e31-b740-e669f6f0aa4a",
   "metadata": {},
   "outputs": [
    {
     "data": {
      "text/plain": [
       "4"
      ]
     },
     "execution_count": 3,
     "metadata": {},
     "output_type": "execute_result"
    }
   ],
   "source": [
    "2+2"
   ]
  },
  {
   "cell_type": "code",
   "execution_count": 7,
   "id": "557780d0-7858-425b-99b6-7d1290fcf831",
   "metadata": {},
   "outputs": [
    {
     "data": {
      "text/plain": [
       "2.0"
      ]
     },
     "execution_count": 7,
     "metadata": {},
     "output_type": "execute_result"
    }
   ],
   "source": [
    "10/5 #Float divisom"
   ]
  },
  {
   "cell_type": "code",
   "execution_count": 8,
   "id": "aa086f7b-2255-4908-a2f0-495643d76603",
   "metadata": {},
   "outputs": [
    {
     "data": {
      "text/plain": [
       "2"
      ]
     },
     "execution_count": 8,
     "metadata": {},
     "output_type": "execute_result"
    }
   ],
   "source": [
    "10//5 #int division"
   ]
  },
  {
   "cell_type": "markdown",
   "id": "620c5133-cc82-49e6-a7f4-c6c2cc0f5373",
   "metadata": {},
   "source": [
    "# STRING"
   ]
  },
  {
   "cell_type": "code",
   "execution_count": 11,
   "id": "a4b91b56-79b2-41fe-9a77-8d68502454f0",
   "metadata": {},
   "outputs": [
    {
     "data": {
      "text/plain": [
       "'welcome'"
      ]
     },
     "execution_count": 11,
     "metadata": {},
     "output_type": "execute_result"
    }
   ],
   "source": [
    "'welcome'"
   ]
  },
  {
   "cell_type": "code",
   "execution_count": 10,
   "id": "8b283ad2-c2c8-4ded-a581-5a68bc077798",
   "metadata": {},
   "outputs": [
    {
     "data": {
      "text/plain": [
       "'welcome'"
      ]
     },
     "execution_count": 10,
     "metadata": {},
     "output_type": "execute_result"
    }
   ],
   "source": [
    "\"welcome\""
   ]
  },
  {
   "cell_type": "code",
   "execution_count": 13,
   "id": "f2c1bf8a-a2f7-4d11-84ee-d1a5e39de0c9",
   "metadata": {},
   "outputs": [
    {
     "data": {
      "text/plain": [
       "\"'welcome'\""
      ]
     },
     "execution_count": 13,
     "metadata": {},
     "output_type": "execute_result"
    }
   ],
   "source": [
    "\"'welcome'\""
   ]
  },
  {
   "cell_type": "markdown",
   "id": "ea918371-e84a-41ef-bd61-e882fc21a68a",
   "metadata": {},
   "source": [
    "# Python Variable Creation"
   ]
  },
  {
   "cell_type": "raw",
   "id": "c04c9270-5f12-45b2-9a4f-619f08f76b4c",
   "metadata": {},
   "source": [
    "Variable Name = value"
   ]
  },
  {
   "cell_type": "code",
   "execution_count": 15,
   "id": "28ac00d9-7bf9-4b07-89b6-1514a42f4b53",
   "metadata": {},
   "outputs": [],
   "source": [
    "v = 9"
   ]
  },
  {
   "cell_type": "code",
   "execution_count": 16,
   "id": "83d99d43-f435-45a2-b452-2cbcc328f527",
   "metadata": {},
   "outputs": [
    {
     "data": {
      "text/plain": [
       "9"
      ]
     },
     "execution_count": 16,
     "metadata": {},
     "output_type": "execute_result"
    }
   ],
   "source": [
    "v"
   ]
  },
  {
   "cell_type": "code",
   "execution_count": 18,
   "id": "d2ce246b-fe75-47b7-bc15-47e0e2754e44",
   "metadata": {},
   "outputs": [
    {
     "data": {
      "text/plain": [
       "140718009857192"
      ]
     },
     "execution_count": 18,
     "metadata": {},
     "output_type": "execute_result"
    }
   ],
   "source": [
    "id(v)  # address of the variable"
   ]
  },
  {
   "cell_type": "markdown",
   "id": "53a8e0bf-cb7d-4128-9c8d-591df19ed006",
   "metadata": {},
   "source": [
    "# Rules to define variable"
   ]
  },
  {
   "cell_type": "raw",
   "id": "44ea8bce-8326-4f6d-b005-f9258c6dc5fc",
   "metadata": {},
   "source": [
    "- Variable doesnot start with Number\n",
    "- variables are case sensitive\n",
    "- special characters are not allowed except underscore (_)\n",
    "- keywords or reserved words are not allowed to use as variable or identifier\n"
   ]
  },
  {
   "cell_type": "code",
   "execution_count": 21,
   "id": "e296f2d5-3aa8-4491-806e-af40d1ada314",
   "metadata": {},
   "outputs": [],
   "source": [
    "v9 = 8"
   ]
  },
  {
   "cell_type": "code",
   "execution_count": 22,
   "id": "1772a56a-6fd3-4bab-be90-64bcbf92fd28",
   "metadata": {},
   "outputs": [
    {
     "data": {
      "text/plain": [
       "8"
      ]
     },
     "execution_count": 22,
     "metadata": {},
     "output_type": "execute_result"
    }
   ],
   "source": [
    "v9"
   ]
  },
  {
   "cell_type": "code",
   "execution_count": 24,
   "id": "7e60f587-0cdf-4675-a83a-b2bba2b2aac9",
   "metadata": {},
   "outputs": [
    {
     "ename": "SyntaxError",
     "evalue": "invalid decimal literal (693764110.py, line 1)",
     "output_type": "error",
     "traceback": [
      "\u001b[1;36m  Cell \u001b[1;32mIn[24], line 1\u001b[1;36m\u001b[0m\n\u001b[1;33m    9v = 8 #syntax error\u001b[0m\n\u001b[1;37m    ^\u001b[0m\n\u001b[1;31mSyntaxError\u001b[0m\u001b[1;31m:\u001b[0m invalid decimal literal\n"
     ]
    }
   ],
   "source": [
    "9v = 8 #syntax error"
   ]
  },
  {
   "cell_type": "code",
   "execution_count": 25,
   "id": "7693d1ac-5849-4119-a052-2a0e604a7357",
   "metadata": {},
   "outputs": [],
   "source": [
    "a, b = 1 , 2"
   ]
  },
  {
   "cell_type": "code",
   "execution_count": 28,
   "id": "0d8493cf-b749-4e72-8a59-739f44d191c7",
   "metadata": {},
   "outputs": [
    {
     "data": {
      "text/plain": [
       "2"
      ]
     },
     "execution_count": 28,
     "metadata": {},
     "output_type": "execute_result"
    }
   ],
   "source": [
    "a\n",
    "b"
   ]
  },
  {
   "cell_type": "code",
   "execution_count": 30,
   "id": "67a2db39-31f6-4e7f-8622-a483d842becb",
   "metadata": {},
   "outputs": [
    {
     "name": "stdout",
     "output_type": "stream",
     "text": [
      "1\n",
      "2\n"
     ]
    }
   ],
   "source": [
    "print(a)\n",
    "print(b)   #printing both at a time with print function"
   ]
  },
  {
   "cell_type": "code",
   "execution_count": 1,
   "id": "f31b63e5-d55c-4259-868a-2be249c16f94",
   "metadata": {},
   "outputs": [
    {
     "data": {
      "text/plain": [
       "['False',\n",
       " 'None',\n",
       " 'True',\n",
       " 'and',\n",
       " 'as',\n",
       " 'assert',\n",
       " 'async',\n",
       " 'await',\n",
       " 'break',\n",
       " 'class',\n",
       " 'continue',\n",
       " 'def',\n",
       " 'del',\n",
       " 'elif',\n",
       " 'else',\n",
       " 'except',\n",
       " 'finally',\n",
       " 'for',\n",
       " 'from',\n",
       " 'global',\n",
       " 'if',\n",
       " 'import',\n",
       " 'in',\n",
       " 'is',\n",
       " 'lambda',\n",
       " 'nonlocal',\n",
       " 'not',\n",
       " 'or',\n",
       " 'pass',\n",
       " 'raise',\n",
       " 'return',\n",
       " 'try',\n",
       " 'while',\n",
       " 'with',\n",
       " 'yield']"
      ]
     },
     "execution_count": 1,
     "metadata": {},
     "output_type": "execute_result"
    }
   ],
   "source": [
    "import keyword\n",
    "keyword.kwlist"
   ]
  },
  {
   "cell_type": "code",
   "execution_count": 3,
   "id": "e26c96ca-46ca-45a5-b3dd-12bfdd752455",
   "metadata": {},
   "outputs": [
    {
     "data": {
      "text/plain": [
       "35"
      ]
     },
     "execution_count": 3,
     "metadata": {},
     "output_type": "execute_result"
    }
   ],
   "source": [
    "len(keyword.kwlist)"
   ]
  },
  {
   "cell_type": "code",
   "execution_count": null,
   "id": "39a6cd55-9435-4114-9581-04bd5764a810",
   "metadata": {},
   "outputs": [],
   "source": []
  }
 ],
 "metadata": {
  "kernelspec": {
   "display_name": "Python [conda env:base] *",
   "language": "python",
   "name": "conda-base-py"
  },
  "language_info": {
   "codemirror_mode": {
    "name": "ipython",
    "version": 3
   },
   "file_extension": ".py",
   "mimetype": "text/x-python",
   "name": "python",
   "nbconvert_exporter": "python",
   "pygments_lexer": "ipython3",
   "version": "3.13.5"
  }
 },
 "nbformat": 4,
 "nbformat_minor": 5
}
