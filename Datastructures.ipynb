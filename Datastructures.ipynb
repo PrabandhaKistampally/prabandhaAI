{
 "cells": [
  {
   "cell_type": "markdown",
   "id": "97ca84fa-8ff0-4b47-96e6-afb07d9e5902",
   "metadata": {},
   "source": [
    "# String Indexing\n",
    "   - forward indexing : left to right\n",
    "   - backward indexing : right to left\n",
    "   - step indexing"
   ]
  },
  {
   "cell_type": "code",
   "execution_count": 82,
   "id": "c2ea45e0-cfa1-4b39-a33c-b0a040dfff12",
   "metadata": {},
   "outputs": [],
   "source": [
    "s = 'hello'"
   ]
  },
  {
   "cell_type": "code",
   "execution_count": 83,
   "id": "a9ebd2ff-7605-40ec-94a4-437e280acb6c",
   "metadata": {},
   "outputs": [
    {
     "data": {
      "text/plain": [
       "'h'"
      ]
     },
     "execution_count": 83,
     "metadata": {},
     "output_type": "execute_result"
    }
   ],
   "source": [
    "s[0]"
   ]
  },
  {
   "cell_type": "code",
   "execution_count": 84,
   "id": "60282250-81f8-4bd8-a954-7b654ed31293",
   "metadata": {},
   "outputs": [
    {
     "data": {
      "text/plain": [
       "'o'"
      ]
     },
     "execution_count": 84,
     "metadata": {},
     "output_type": "execute_result"
    }
   ],
   "source": [
    "s[-1]"
   ]
  },
  {
   "cell_type": "code",
   "execution_count": 87,
   "id": "510810e4-fe8d-4280-86a6-cb2df56f53c6",
   "metadata": {},
   "outputs": [
    {
     "data": {
      "text/plain": [
       "'hello'"
      ]
     },
     "execution_count": 87,
     "metadata": {},
     "output_type": "execute_result"
    }
   ],
   "source": [
    "s[:]  #slicing"
   ]
  },
  {
   "cell_type": "code",
   "execution_count": 88,
   "id": "10343e71-ca56-4762-81bf-ec9439da7b27",
   "metadata": {},
   "outputs": [
    {
     "data": {
      "text/plain": [
       "'h'"
      ]
     },
     "execution_count": 88,
     "metadata": {},
     "output_type": "execute_result"
    }
   ],
   "source": [
    "s[0:1]"
   ]
  },
  {
   "cell_type": "code",
   "execution_count": 90,
   "id": "e3e18062-12c3-42bc-a3b5-54995c88f504",
   "metadata": {},
   "outputs": [
    {
     "data": {
      "text/plain": [
       "'hel'"
      ]
     },
     "execution_count": 90,
     "metadata": {},
     "output_type": "execute_result"
    }
   ],
   "source": [
    "s[0:3] # s[starting : n-1]"
   ]
  },
  {
   "cell_type": "code",
   "execution_count": 92,
   "id": "16ab747d-6af7-4a9e-91ae-13ebeea4832e",
   "metadata": {},
   "outputs": [],
   "source": [
    "s1 = 'manu'"
   ]
  },
  {
   "cell_type": "code",
   "execution_count": 93,
   "id": "9df18876-4560-4b33-8879-83e6c1bff2f6",
   "metadata": {},
   "outputs": [
    {
     "name": "stdout",
     "output_type": "stream",
     "text": [
      "manu\n"
     ]
    }
   ],
   "source": [
    "print(s1)"
   ]
  },
  {
   "cell_type": "code",
   "execution_count": 94,
   "id": "54c35876-cbc9-44d2-ad76-ac82ac0231c1",
   "metadata": {},
   "outputs": [
    {
     "data": {
      "text/plain": [
       "'hellomanu'"
      ]
     },
     "execution_count": 94,
     "metadata": {},
     "output_type": "execute_result"
    }
   ],
   "source": [
    "s3 = s+s1\n",
    "s3"
   ]
  },
  {
   "cell_type": "code",
   "execution_count": 96,
   "id": "5862c474-55a6-4bf6-80f3-7c50aae971e4",
   "metadata": {},
   "outputs": [
    {
     "name": "stdout",
     "output_type": "stream",
     "text": [
      "h\n",
      "e\n",
      "l\n",
      "l\n",
      "o\n",
      "m\n",
      "a\n",
      "n\n",
      "u\n"
     ]
    }
   ],
   "source": [
    "for i in s3:\n",
    "    print(i)  #vertical print"
   ]
  },
  {
   "cell_type": "code",
   "execution_count": 97,
   "id": "1247267a-4d3d-4caa-9e53-70db616a7821",
   "metadata": {},
   "outputs": [
    {
     "data": {
      "text/plain": [
       "['m', 'a', 'n', 'u']"
      ]
     },
     "execution_count": 97,
     "metadata": {},
     "output_type": "execute_result"
    }
   ],
   "source": [
    "s2 = ['m' , 'a', 'n' ,'u']\n",
    "s2"
   ]
  },
  {
   "cell_type": "code",
   "execution_count": 98,
   "id": "d918505f-2ead-4a4f-9dae-d8cd2742cba1",
   "metadata": {},
   "outputs": [
    {
     "data": {
      "text/plain": [
       "['a', 'n', 'u']"
      ]
     },
     "execution_count": 98,
     "metadata": {},
     "output_type": "execute_result"
    }
   ],
   "source": [
    "s2[1:4]"
   ]
  },
  {
   "cell_type": "markdown",
   "id": "dd60f758-9600-4bf0-9905-2cf97cc507b1",
   "metadata": {},
   "source": [
    "# Python Data Structures\n",
    "    * variable = (value | datatype)\n",
    "    * value - int , float, complex, string, bool\n",
    "\n",
    "    * datatype --assign only one value / element to a variable\n",
    "    * data structure -- assign more than one value /element to a variable\n",
    "\n",
    "    * Data structures are 2 types\n",
    "-> Inbuild / Buildin  Data Structure\n",
    "\n",
    "                 LIST , TUPLE ,SET ,DICT , RANGE\n",
    "\n",
    "-> User Defined Data Structure : which are take care by some of the libraries or modules              likesklearn,tensorflow,numpy,pandas,matplotlib,seaborn\n",
    "                 \n",
    "                 STACK, HEAP, LINKEDLIST, TREE, QUEUE,HASHMAP"
   ]
  },
  {
   "cell_type": "markdown",
   "id": "346113e0-c655-4b35-94fe-210c55ad90a3",
   "metadata": {},
   "source": [
    "# :LIST: \n",
    "   * list assigned with []\n",
    "   * listname. + tab gives all the functions can use in list \n",
    "   * shift +tab after function name provides help to use that particular function\n",
    "   * list can be updated\n",
    "   * Duplicates are allowed\n",
    "     \n",
    "    -> append(): add the element at last\n",
    "    -> copy(): copy a list to another one\n",
    "    -> clear(): values get cleared from the list but empty list available at the same memory location"
   ]
  },
  {
   "cell_type": "code",
   "execution_count": 67,
   "id": "b95db42f-324e-4eb0-a03c-58e286941430",
   "metadata": {},
   "outputs": [
    {
     "name": "stdout",
     "output_type": "stream",
     "text": [
      "[]\n",
      "<class 'list'>\n",
      "0\n",
      "2850867715776\n"
     ]
    }
   ],
   "source": [
    "l = []\n",
    "print(l)\n",
    "print(type(l))\n",
    "print(len(l))\n",
    "print(id(l))"
   ]
  },
  {
   "cell_type": "code",
   "execution_count": null,
   "id": "bb31fa94-2037-4625-bcb0-f15b67788386",
   "metadata": {},
   "outputs": [],
   "source": []
  },
  {
   "cell_type": "code",
   "execution_count": 68,
   "id": "ffccc627-e06c-49e6-93d8-af14065cdb44",
   "metadata": {},
   "outputs": [],
   "source": [
    "l.append(10)             # Append : add element at last , but it takes only one value at a time\n",
    "l.append(20)\n",
    "l.append(30)\n",
    "l.append(40)"
   ]
  },
  {
   "cell_type": "code",
   "execution_count": 69,
   "id": "1b21f9d0-1bd5-4a27-80ff-55b8adc5fe4d",
   "metadata": {},
   "outputs": [
    {
     "data": {
      "text/plain": [
       "4"
      ]
     },
     "execution_count": 69,
     "metadata": {},
     "output_type": "execute_result"
    }
   ],
   "source": [
    "len(l)"
   ]
  },
  {
   "cell_type": "code",
   "execution_count": 70,
   "id": "42f94d2f-872a-4d84-8297-380efaedef6f",
   "metadata": {},
   "outputs": [
    {
     "data": {
      "text/plain": [
       "[10, 20, 30, 40]"
      ]
     },
     "execution_count": 70,
     "metadata": {},
     "output_type": "execute_result"
    }
   ],
   "source": [
    "l"
   ]
  },
  {
   "cell_type": "code",
   "execution_count": 71,
   "id": "3fbd0b2f-351f-44f4-a8eb-06069f378596",
   "metadata": {},
   "outputs": [
    {
     "data": {
      "text/plain": [
       "[10, 20, 30, 40]"
      ]
     },
     "execution_count": 71,
     "metadata": {},
     "output_type": "execute_result"
    }
   ],
   "source": [
    "l1 = l.copy()                          # copy : just copy the list\n",
    "l1"
   ]
  },
  {
   "cell_type": "code",
   "execution_count": 72,
   "id": "162b66c2-cf33-4ef0-b857-362a178da474",
   "metadata": {},
   "outputs": [],
   "source": [
    "l1.append(100)\n"
   ]
  },
  {
   "cell_type": "code",
   "execution_count": 73,
   "id": "da43f91a-7a5a-4cbe-aa0d-d92058c844dc",
   "metadata": {},
   "outputs": [
    {
     "data": {
      "text/plain": [
       "False"
      ]
     },
     "execution_count": 73,
     "metadata": {},
     "output_type": "execute_result"
    }
   ],
   "source": [
    "l == l1"
   ]
  },
  {
   "cell_type": "code",
   "execution_count": 74,
   "id": "de6fe72c-2b64-4410-a117-7ea2b4cf53a1",
   "metadata": {},
   "outputs": [
    {
     "data": {
      "text/plain": [
       "True"
      ]
     },
     "execution_count": 74,
     "metadata": {},
     "output_type": "execute_result"
    }
   ],
   "source": [
    "l != l1"
   ]
  },
  {
   "cell_type": "code",
   "execution_count": 75,
   "id": "446eb809-fefd-458d-a08f-919a6428462a",
   "metadata": {},
   "outputs": [
    {
     "name": "stdout",
     "output_type": "stream",
     "text": [
      "[10, 20, 30, 40]\n",
      "[10, 20, 30, 40, 100]\n"
     ]
    }
   ],
   "source": [
    "print(l)\n",
    "print(l1)"
   ]
  },
  {
   "cell_type": "code",
   "execution_count": 76,
   "id": "8a3f0696-9181-44d9-8ad7-b700c0bf9fde",
   "metadata": {},
   "outputs": [],
   "source": [
    "l1.clear()       # clear: values get cleared from the list but empty list available at the same memory location"
   ]
  },
  {
   "cell_type": "code",
   "execution_count": 77,
   "id": "5e99159a-d886-45ac-9131-adbba676d841",
   "metadata": {},
   "outputs": [
    {
     "data": {
      "text/plain": [
       "[]"
      ]
     },
     "execution_count": 77,
     "metadata": {},
     "output_type": "execute_result"
    }
   ],
   "source": [
    "l1"
   ]
  },
  {
   "cell_type": "code",
   "execution_count": 78,
   "id": "8239be64-7dc9-47b5-adeb-028bc2f454c3",
   "metadata": {},
   "outputs": [
    {
     "data": {
      "text/plain": [
       "2850867937920"
      ]
     },
     "execution_count": 78,
     "metadata": {},
     "output_type": "execute_result"
    }
   ],
   "source": [
    "id(l1)"
   ]
  },
  {
   "cell_type": "code",
   "execution_count": 79,
   "id": "063cfb1e-d398-4718-a7f5-89d81f47a724",
   "metadata": {},
   "outputs": [
    {
     "data": {
      "text/plain": [
       "[10, 20, 30, 40]"
      ]
     },
     "execution_count": 79,
     "metadata": {},
     "output_type": "execute_result"
    }
   ],
   "source": [
    "l"
   ]
  },
  {
   "cell_type": "code",
   "execution_count": 80,
   "id": "ec079465-08e3-4b38-9e94-a9da4e4b300e",
   "metadata": {},
   "outputs": [],
   "source": [
    "l.append('prabandha') \n",
    "l.append(2.3)\n",
    "l.append(1+2j)\n",
    "l.append(True)\n",
    "l.append([1,2,3])  # nested list\n"
   ]
  },
  {
   "cell_type": "code",
   "execution_count": 81,
   "id": "aeb3b0a5-4880-419e-af4b-c99078ce517c",
   "metadata": {},
   "outputs": [
    {
     "name": "stdout",
     "output_type": "stream",
     "text": [
      "[10, 20, 30, 40, 'prabandha', 2.3, (1+2j), True, [1, 2, 3]]\n"
     ]
    }
   ],
   "source": [
    "print(l)"
   ]
  },
  {
   "cell_type": "code",
   "execution_count": null,
   "id": "871ac2e5-eac1-40d0-994d-ab5d33cb8a94",
   "metadata": {},
   "outputs": [],
   "source": []
  },
  {
   "cell_type": "code",
   "execution_count": null,
   "id": "52b9598c-14f1-4f83-832e-022f9682bf6d",
   "metadata": {},
   "outputs": [],
   "source": []
  },
  {
   "cell_type": "code",
   "execution_count": null,
   "id": "704225d7-9810-468d-91a7-50ae7fa322c1",
   "metadata": {},
   "outputs": [],
   "source": []
  }
 ],
 "metadata": {
  "kernelspec": {
   "display_name": "Python [conda env:base] *",
   "language": "python",
   "name": "conda-base-py"
  },
  "language_info": {
   "codemirror_mode": {
    "name": "ipython",
    "version": 3
   },
   "file_extension": ".py",
   "mimetype": "text/x-python",
   "name": "python",
   "nbconvert_exporter": "python",
   "pygments_lexer": "ipython3",
   "version": "3.13.5"
  }
 },
 "nbformat": 4,
 "nbformat_minor": 5
}
