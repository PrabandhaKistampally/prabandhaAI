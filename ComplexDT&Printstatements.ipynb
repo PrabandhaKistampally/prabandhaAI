{
 "cells": [
  {
   "cell_type": "markdown",
   "id": "c6633248-146e-46f2-bc88-7490c1433ff4",
   "metadata": {},
   "source": [
    "# Print Statements and Complex Data type"
   ]
  },
  {
   "cell_type": "markdown",
   "id": "aa9acf4b-c443-4d7b-afec-f4a3e099dbb0",
   "metadata": {},
   "source": [
    "# -------------------Print Statements------------"
   ]
  },
  {
   "cell_type": "code",
   "execution_count": 1,
   "id": "9ac41765-5f46-47d0-81a3-7425319734af",
   "metadata": {},
   "outputs": [
    {
     "data": {
      "text/plain": [
       "20"
      ]
     },
     "execution_count": 1,
     "metadata": {},
     "output_type": "execute_result"
    }
   ],
   "source": [
    "a=10\n",
    "b=20\n",
    "a\n",
    "b"
   ]
  },
  {
   "cell_type": "code",
   "execution_count": 2,
   "id": "0269f02a-39a6-4704-b9aa-9b4b899a5377",
   "metadata": {},
   "outputs": [
    {
     "name": "stdout",
     "output_type": "stream",
     "text": [
      "10\n",
      "20\n"
     ]
    }
   ],
   "source": [
    "a=10\n",
    "b=20\n",
    "print(a)\n",
    "print(b)"
   ]
  },
  {
   "cell_type": "markdown",
   "id": "3d999e6e-cc6e-4781-9d4d-5c0c3e0be231",
   "metadata": {},
   "source": [
    "# Argumented Print Function"
   ]
  },
  {
   "cell_type": "code",
   "execution_count": 3,
   "id": "12bd493a-574d-4345-9ea0-160df7a4dd0e",
   "metadata": {},
   "outputs": [
    {
     "name": "stdout",
     "output_type": "stream",
     "text": [
      "10\n",
      "10 20\n",
      "python\n",
      "10 20 python\n"
     ]
    }
   ],
   "source": [
    "print(10)\n",
    "print(10,20)\n",
    "print('python')\n",
    "print(10,20,'python')"
   ]
  },
  {
   "cell_type": "code",
   "execution_count": 4,
   "id": "0171708b-9069-4aaa-a49d-926ab99556ef",
   "metadata": {},
   "outputs": [
    {
     "name": "stdout",
     "output_type": "stream",
     "text": [
      "50\n"
     ]
    }
   ],
   "source": [
    "num1=20\n",
    "num2=30\n",
    "add=num1+num2\n",
    "print(add)"
   ]
  },
  {
   "cell_type": "markdown",
   "id": "202ab1e6-18a5-40e8-ac8e-606142152780",
   "metadata": {},
   "source": [
    "# Print Result with String"
   ]
  },
  {
   "cell_type": "code",
   "execution_count": 6,
   "id": "503f191c-37b1-452c-83b2-149f9515f6e6",
   "metadata": {},
   "outputs": [
    {
     "name": "stdout",
     "output_type": "stream",
     "text": [
      "The addition of 20 and 30 is= 50\n"
     ]
    }
   ],
   "source": [
    "num1=20\n",
    "num2=30\n",
    "add=num1+num2\n",
    "print('The addition of',num1,'and',num2,'is=',add)"
   ]
  },
  {
   "cell_type": "code",
   "execution_count": 8,
   "id": "f68e4ec3-81c8-42cb-bd5f-70d3b1ab2b91",
   "metadata": {},
   "outputs": [
    {
     "name": "stdout",
     "output_type": "stream",
     "text": [
      "My name is Python and i am 20 years old form hyd\n"
     ]
    }
   ],
   "source": [
    "name='Python'\n",
    "age=20\n",
    "city='hyd'\n",
    "# my name is python and i am 10 year old from hydrabad\n",
    "print('My name is',name,'and i am',age,'years old form',city)"
   ]
  },
  {
   "cell_type": "markdown",
   "id": "eddccf1f-2028-44f7-bcf2-08b2c95f1cfb",
   "metadata": {},
   "source": [
    "# Print Format method"
   ]
  },
  {
   "cell_type": "code",
   "execution_count": 9,
   "id": "75bc76b3-d56d-451f-a4bc-c1f52054ac4e",
   "metadata": {},
   "outputs": [
    {
     "name": "stdout",
     "output_type": "stream",
     "text": [
      "The addition of 20 and 30 is= 50\n"
     ]
    }
   ],
   "source": [
    "num1=20\n",
    "num2=30\n",
    "add=num1+num2\n",
    "print('The addition of {} and {} is= {}'.format(num1,num2,add))"
   ]
  },
  {
   "cell_type": "code",
   "execution_count": 11,
   "id": "1f10523c-336a-42ba-a0d8-a2bd9e48218f",
   "metadata": {},
   "outputs": [
    {
     "name": "stdout",
     "output_type": "stream",
     "text": [
      "hello my name is Python, and i am 20 years old from hyd\n"
     ]
    }
   ],
   "source": [
    "name='Python'\n",
    "age=20\n",
    "city='hyd'\n",
    "#hellow my name is python and i am 10 year old from hydrabad\n",
    "print('hello my name is {}, and i am {} years old from {}'.format(name,age,city))"
   ]
  },
  {
   "cell_type": "code",
   "execution_count": 12,
   "id": "4224e80d-5a8c-4f00-98c2-b0283e2e7bd5",
   "metadata": {},
   "outputs": [
    {
     "name": "stdout",
     "output_type": "stream",
     "text": [
      "The avrage of 100, 25, and 333 is= 152.66666666666666 or 152.67\n"
     ]
    }
   ],
   "source": [
    "num1=100\n",
    "num2=25\n",
    "num3=333\n",
    "avg=(num1+num2+num3)/3 # or we can use avg=round(num1+num2+num3)/3,2)\n",
    "avg1=round((num1+num2+num3)/3,2)\n",
    "# The avrage of num1,num2,num3 is = avg\n",
    "print('The avrage of {}, {}, and {} is= {} or {}'.format(num1,num2,num3,\n",
    "avg,avg1)) # here we can use round(avg,2) also"
   ]
  },
  {
   "cell_type": "markdown",
   "id": "9a9b14d3-10c4-4b8a-8764-b0a43f9c999c",
   "metadata": {},
   "source": [
    "# More short format meythod(f string method)\n"
   ]
  },
  {
   "cell_type": "raw",
   "id": "70eaf2f7-4d4c-4968-9531-f364a080edbf",
   "metadata": {},
   "source": [
    "variable should be in curly braces\n",
    "and write everything inside quots ''\n",
    "at starting simpaly add f"
   ]
  },
  {
   "cell_type": "code",
   "execution_count": 13,
   "id": "bc8fbbc0-1d30-4176-9158-4c7024f16485",
   "metadata": {},
   "outputs": [
    {
     "name": "stdout",
     "output_type": "stream",
     "text": [
      "The addition of 20 and 30 is= 50\n"
     ]
    }
   ],
   "source": [
    "num1=20\n",
    "num2=30\n",
    "add=num1+num2\n",
    "print(f'The addition of {num1} and {num2} is= {add}') # alwase prefer this"
   ]
  },
  {
   "cell_type": "code",
   "execution_count": 14,
   "id": "84b7b84f-cc53-45e6-9222-4ca066091d4d",
   "metadata": {},
   "outputs": [
    {
     "name": "stdout",
     "output_type": "stream",
     "text": [
      "hello my name is Python, and i am 20 year old, from hyd.\n"
     ]
    }
   ],
   "source": [
    "name='Python'\n",
    "age=20\n",
    "city='hyd'\n",
    "#hellow my name is python and i am 10 year old from hydrabad\n",
    "print(f'hello my name is {name}, and i am {age} year old, from {city}.')"
   ]
  },
  {
   "cell_type": "code",
   "execution_count": 15,
   "id": "8a7cf2a0-fc8f-4ae3-b980-97445f4f712f",
   "metadata": {},
   "outputs": [
    {
     "name": "stdout",
     "output_type": "stream",
     "text": [
      "The addition of 10 and 20 is= 30\n",
      "The addition of 10 and 20 is= 30\n",
      "The addition of 10 and 20 is= 30\n"
     ]
    }
   ],
   "source": [
    "# lete combine all\n",
    "num1=10\n",
    "num2=20\n",
    "add = num1+ num2\n",
    "print('The addition of',num1,'and',num2,'is=',add)\n",
    "print('The addition of {} and {} is= {}'.format(num1,num2,add))\n",
    "print(f'The addition of {num1} and {num2} is= {add}')"
   ]
  },
  {
   "cell_type": "markdown",
   "id": "32ef5ac3-8061-4107-bef3-42d90a583a46",
   "metadata": {},
   "source": [
    "# End Statement"
   ]
  },
  {
   "cell_type": "code",
   "execution_count": 16,
   "id": "5c321a90-62b1-455c-b682-bbd13012e4c3",
   "metadata": {},
   "outputs": [
    {
     "name": "stdout",
     "output_type": "stream",
     "text": [
      "hello\n",
      "good moorning\n"
     ]
    }
   ],
   "source": [
    "print('hello') # 1st statement\n",
    "print('good moorning') # 2nd statement)\n",
    "# i want print like:- hellow good morning"
   ]
  },
  {
   "cell_type": "code",
   "execution_count": 17,
   "id": "f6884de3-63d4-4ab8-a209-98e286eb57b1",
   "metadata": {},
   "outputs": [
    {
     "name": "stdout",
     "output_type": "stream",
     "text": [
      "hello world good day\n"
     ]
    }
   ],
   "source": [
    "print('hello', end=' ') # 1st statement\n",
    "print('world good day') # 2nd statement"
   ]
  },
  {
   "cell_type": "markdown",
   "id": "ca6f91b4-ab51-4e1d-8d38-2324848eb32a",
   "metadata": {},
   "source": [
    "# Seperator"
   ]
  },
  {
   "cell_type": "markdown",
   "id": "bb11cf0e-d2f6-4f08-aa36-b3dc38d7edcf",
   "metadata": {},
   "source": [
    "here one print statement only we use\n",
    "insisde one print statement we have multipal values\n",
    "we want to seperate these multipal values with anything"
   ]
  },
  {
   "cell_type": "code",
   "execution_count": 18,
   "id": "30fcde08-2b93-4d99-b79f-8820e77a127a",
   "metadata": {},
   "outputs": [
    {
     "name": "stdout",
     "output_type": "stream",
     "text": [
      "hello--->hai--->how are you\n",
      "hello&hai&how are you\n",
      "hello@hai@how are you\n",
      "hello hai how are you\n",
      "3 .\n",
      "3.\n",
      "1 2 3.\n"
     ]
    }
   ],
   "source": [
    "print('hello','hai','how are you',sep='--->')\n",
    "print('hello','hai','how are you',sep='&')\n",
    "print('hello','hai','how are you',sep='@')\n",
    "print('hello','hai','how are you',sep=' ')\n",
    "print(3,'.') # . is far from 3 so here we will use sep method\n",
    "print(3,'.',sep='') # see now space setteld(also use to remove space B/W words)\n",
    "print(1,2,end=' ')\n",
    "print(3,'.',sep='')\n",
    "# will print 1 2 3."
   ]
  },
  {
   "cell_type": "markdown",
   "id": "a842850f-a556-47d2-8d9c-7f3d0a2409e9",
   "metadata": {},
   "source": [
    "# -----------------Complex Data type----------------"
   ]
  },
  {
   "cell_type": "raw",
   "id": "778885b6-48de-417b-8772-c7a79462fc6f",
   "metadata": {},
   "source": [
    "Z = real + Imaganary * 1j\n",
    "Z = 3 + 4j"
   ]
  },
  {
   "cell_type": "code",
   "execution_count": 21,
   "id": "35219006-b0c4-4ec5-82d4-30b6b17ef9b1",
   "metadata": {},
   "outputs": [
    {
     "name": "stdout",
     "output_type": "stream",
     "text": [
      "3.0\n",
      "4.0\n"
     ]
    }
   ],
   "source": [
    "z = 3 + 4j\n",
    "print(z.real)\n",
    "print(z.imag)"
   ]
  },
  {
   "cell_type": "code",
   "execution_count": 22,
   "id": "c826d62c-fd94-42b7-b229-e12fcdcd3be7",
   "metadata": {},
   "outputs": [
    {
     "name": "stdout",
     "output_type": "stream",
     "text": [
      "(4+6j)\n",
      "(2+2j)\n",
      "(-5+10j)\n",
      "(2.2-0.4j)\n"
     ]
    }
   ],
   "source": [
    "a=3+4j\n",
    "b=1+2j\n",
    "print(a+b)\n",
    "print(a-b)\n",
    "print(a*b)\n",
    "print(a/b)"
   ]
  },
  {
   "cell_type": "code",
   "execution_count": 24,
   "id": "98136468-fd0c-49c5-b550-06a2fc94811c",
   "metadata": {},
   "outputs": [
    {
     "name": "stdout",
     "output_type": "stream",
     "text": [
      "5.0\n"
     ]
    },
    {
     "ename": "AttributeError",
     "evalue": "'complex' object has no attribute 'conj'",
     "output_type": "error",
     "traceback": [
      "\u001b[1;31m---------------------------------------------------------------------------\u001b[0m",
      "\u001b[1;31mAttributeError\u001b[0m                            Traceback (most recent call last)",
      "Cell \u001b[1;32mIn[24], line 3\u001b[0m\n\u001b[0;32m      1\u001b[0m z \u001b[38;5;241m=\u001b[39m \u001b[38;5;241m3\u001b[39m \u001b[38;5;241m+\u001b[39m \u001b[38;5;241m4\u001b[39mj\n\u001b[0;32m      2\u001b[0m \u001b[38;5;28mprint\u001b[39m(\u001b[38;5;28mabs\u001b[39m(z))\n\u001b[1;32m----> 3\u001b[0m \u001b[38;5;28mprint\u001b[39m(z\u001b[38;5;241m.\u001b[39mconj())\n",
      "\u001b[1;31mAttributeError\u001b[0m: 'complex' object has no attribute 'conj'"
     ]
    }
   ],
   "source": [
    "z = 3 + 4j\n",
    "print(abs(z))\n",
    "print(z.conj())"
   ]
  },
  {
   "cell_type": "code",
   "execution_count": null,
   "id": "cab7d605-df3a-4578-8257-4814c3c71e7d",
   "metadata": {},
   "outputs": [],
   "source": [
    "import cmath\n",
    "z = 1+1j\n",
    "print(cmath.p())\n",
    "print(cmath.p())\n",
    "print(cmath.p())"
   ]
  }
 ],
 "metadata": {
  "kernelspec": {
   "display_name": "Python [conda env:base] *",
   "language": "python",
   "name": "conda-base-py"
  },
  "language_info": {
   "codemirror_mode": {
    "name": "ipython",
    "version": 3
   },
   "file_extension": ".py",
   "mimetype": "text/x-python",
   "name": "python",
   "nbconvert_exporter": "python",
   "pygments_lexer": "ipython3",
   "version": "3.13.5"
  }
 },
 "nbformat": 4,
 "nbformat_minor": 5
}
