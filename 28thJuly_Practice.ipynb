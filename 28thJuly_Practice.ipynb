{
 "cells": [
  {
   "cell_type": "markdown",
   "id": "ef42b391-5ce0-454b-b727-964474616e6a",
   "metadata": {},
   "source": [
    "# Variables in Python"
   ]
  },
  {
   "cell_type": "code",
   "execution_count": null,
   "id": "fc0094b5-aa3a-469b-b9da-2ee443e1dbc6",
   "metadata": {},
   "outputs": [],
   "source": [
    "first_name = 'PRABANDHA'\n",
    "last_name = 'KISTAMPALLY'\n",
    "country = 'UNITED STATES'\n",
    "city = 'POUGHKEEPSIE , NEWYORK'\n",
    "age = 12345\n",
    "is_married = False\n",
    "skills = ['HTML', 'CSS', 'JS', 'React', 'Python']\n",
    "person_info = {\n",
    "    'firstname':'Prabandha', \n",
    "    'lastname':'Kisampally', \n",
    "    'country':'UnitedStates',\n",
    "    'city':'NewYork'\n",
    "    }"
   ]
  },
  {
   "cell_type": "markdown",
   "id": "9aba4f38-eb1d-45b8-8d05-ca986b6bfd56",
   "metadata": {},
   "source": [
    "# Printing the values stored in the variables¶"
   ]
  },
  {
   "cell_type": "code",
   "execution_count": null,
   "id": "36cbad01-32c4-4996-99f3-77c92512df71",
   "metadata": {},
   "outputs": [],
   "source": [
    "print('First name:', first_name)\n",
    "print('First name length:', len(first_name))\n",
    "print('Last name: ', last_name)\n",
    "print('Last name length: ', len(last_name))\n",
    "print('Country: ', country)\n",
    "print('City: ', city)\n",
    "print('Age: ', age)\n",
    "print('Married: ', is_married)\n",
    "print('Skills: ', skills)\n",
    "print('Person information: ', person_info)"
   ]
  },
  {
   "cell_type": "markdown",
   "id": "a038f542-ccc8-4dbe-a02d-1e9ef8ba9869",
   "metadata": {},
   "source": [
    "# Checking data types\n"
   ]
  },
  {
   "cell_type": "code",
   "execution_count": null,
   "id": "5f3854a1-2c03-4c43-9f2f-d88dfc1eccc8",
   "metadata": {},
   "outputs": [],
   "source": [
    "print(type(10))                  # Int\n",
    "print(type(3.14))                # Float\n",
    "print(type(1 + 3j))              # Complex\n",
    "print(type('Prabandha'))          # String\n",
    "print(type([1, 2, 3]))           # List\n",
    "print(type({'name':'Prabandha'})) # Dictionary\n",
    "print(type({9.8, 3.14, 2.7}))    # Set\n",
    "print(type((9.8, 3.14, 2.7)))    # Tuple\n",
    "print(type(3 == 3))              # Bool\n",
    "print(type(3 >= 3))              # Bool"
   ]
  },
  {
   "cell_type": "markdown",
   "id": "d81ace28-473f-4961-aa76-54481ae1db37",
   "metadata": {},
   "source": [
    "# Arithmetic Operations in Python\n",
    "# Integers¶"
   ]
  },
  {
   "cell_type": "raw",
   "id": "1d39bf2e-9499-4a05-af6d-5c0875d3520d",
   "metadata": {},
   "source": [
    "# / Division in python gives floating number\n",
    " # // gives without the floating number or without the remaining\n",
    " # % Gives the remainder\n",
    "# 3 ** 2  means 3 * 3"
   ]
  },
  {
   "cell_type": "code",
   "execution_count": 2,
   "id": "761dd777-75f6-4a24-8bea-c67cd5ec3cbb",
   "metadata": {},
   "outputs": [
    {
     "name": "stdout",
     "output_type": "stream",
     "text": [
      "Addition:  3\n",
      "Subtraction:  1\n",
      "Multiplication:  6\n",
      "Division:  2.0\n",
      "Division:  3.0\n",
      "Division:  3.5\n",
      "Division without the remainder:  3\n",
      "Modulus:  1\n",
      "Division without the remainder:  2\n",
      "Exponential:  9\n"
     ]
    }
   ],
   "source": [
    "print('Addition: ', 1 + 2)\n",
    "print('Subtraction: ', 2 - 1)\n",
    "print('Multiplication: ', 2 * 3)\n",
    "print ('Division: ', 4 / 2)                         \n",
    "print('Division: ', 6 / 2)\n",
    "print('Division: ', 7 / 2)\n",
    "print('Division without the remainder: ', 7 // 2)  \n",
    "print('Modulus: ', 3 % 2)                          \n",
    "print ('Division without the remainder: ', 7 // 3)\n",
    "print('Exponential: ', 3 ** 2)                 "
   ]
  },
  {
   "cell_type": "markdown",
   "id": "d15c4558-73f8-4da2-9825-9b78094891fb",
   "metadata": {},
   "source": [
    "# Floating numbers"
   ]
  },
  {
   "cell_type": "code",
   "execution_count": 5,
   "id": "7e9d3799-c8b0-4edc-853f-7e2026438290",
   "metadata": {},
   "outputs": [
    {
     "name": "stdout",
     "output_type": "stream",
     "text": [
      "Floating Number,PI 3.14\n",
      "Floating Number, gravity 9.81\n"
     ]
    }
   ],
   "source": [
    "print('Floating Number,PI', 3.14)\n",
    "print('Floating Number, gravity', 9.81)"
   ]
  },
  {
   "cell_type": "markdown",
   "id": "ee8f5a87-956b-4813-b018-09f18040d784",
   "metadata": {},
   "source": [
    "# Complex numbers"
   ]
  },
  {
   "cell_type": "code",
   "execution_count": 6,
   "id": "dced03e0-63fb-4864-abfe-2f8e7dcfe38f",
   "metadata": {},
   "outputs": [
    {
     "name": "stdout",
     "output_type": "stream",
     "text": [
      "Complex number:  (1+1j)\n",
      "Multiplying complex number:  (2+0j)\n"
     ]
    }
   ],
   "source": [
    "print('Complex number: ', 1 + 1j)\n",
    "print('Multiplying complex number: ',(1 + 1j) * (1-1j))"
   ]
  },
  {
   "cell_type": "code",
   "execution_count": null,
   "id": "f40a9ff2-b555-4fa9-9c88-9826c5906d88",
   "metadata": {},
   "outputs": [],
   "source": []
  },
  {
   "cell_type": "code",
   "execution_count": null,
   "id": "f97ee332-ca6e-40f4-9278-9f7fb97a8067",
   "metadata": {},
   "outputs": [],
   "source": []
  }
 ],
 "metadata": {
  "kernelspec": {
   "display_name": "Python [conda env:base] *",
   "language": "python",
   "name": "conda-base-py"
  },
  "language_info": {
   "codemirror_mode": {
    "name": "ipython",
    "version": 3
   },
   "file_extension": ".py",
   "mimetype": "text/x-python",
   "name": "python",
   "nbconvert_exporter": "python",
   "pygments_lexer": "ipython3",
   "version": "3.13.5"
  }
 },
 "nbformat": 4,
 "nbformat_minor": 5
}
